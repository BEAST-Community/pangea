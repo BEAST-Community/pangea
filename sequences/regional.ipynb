{
 "metadata": {
  "name": "",
  "signature": "sha256:3ea7c929030cb702a510588c0c8775ac9cf5224f6f118e3b350b47b5a4e731c3"
 },
 "nbformat": 3,
 "nbformat_minor": 0,
 "worksheets": [
  {
   "cells": [
    {
     "cell_type": "markdown",
     "metadata": {},
     "source": [
      "Regional data\n",
      "\n",
      "40000 individuals"
     ]
    },
    {
     "cell_type": "code",
     "collapsed": false,
     "input": [
      "%load_ext rpy2.ipython\n",
      "%Rdevice svg"
     ],
     "language": "python",
     "metadata": {},
     "outputs": [],
     "prompt_number": 1
    },
    {
     "cell_type": "code",
     "collapsed": false,
     "input": [
      "%%R\n",
      "library(ape)\n",
      "library(magrittr)\n",
      "library(phangorn)\n",
      "library(adephylo)"
     ],
     "language": "python",
     "metadata": {},
     "outputs": [
      {
       "metadata": {},
       "output_type": "display_data",
       "text": [
        "Loading required package: ade4\n",
        "\n",
        "Attaching package: \u2018adephylo\u2019\n",
        "\n",
        "The following object is masked from \u2018package:ade4\u2019:\n",
        "\n",
        "    orthogram\n",
        "\n"
       ]
      }
     ],
     "prompt_number": 2
    },
    {
     "cell_type": "code",
     "collapsed": false,
     "input": [
      "%%R\n",
      "regionaldir <- \"../rawdata/november2014/HPTN071\"\n",
      "stubs <- c(\"281014_HPTN071_scA_rep1_SIMULATED\",\"281014_HPTN071_scB_rep1_SIMULATED\",\"281014_HPTN071_scC_rep1_SIMULATED\")\n",
      "numsc <- length(stubs)"
     ],
     "language": "python",
     "metadata": {},
     "outputs": [],
     "prompt_number": 3
    },
    {
     "cell_type": "code",
     "collapsed": false,
     "input": [
      "%%R\n",
      "genes <- c(\"gag\",\"pol\",\"env\")\n",
      "seqdata <- list()\n",
      "for(i in 1:numsc){\n",
      "    for(j in 1:length(genes)){\n",
      "        if(j==1){\n",
      "            s <- read.dna(paste(regionaldir,\"/\",stubs[i],\"/\",stubs[i],\"_\",genes[j],\".fa\",sep=\"\"),format=\"fasta\",as.matrix=TRUE)\n",
      "            snames <- row.names(s)\n",
      "            o <- order(snames)\n",
      "            snames <- snames[o]\n",
      "            s <- s[o,]\n",
      "        }else{\n",
      "            s2 <- read.dna(paste(regionaldir,\"/\",stubs[i],\"/\",stubs[i],\"_\",genes[j],\".fa\",sep=\"\"),format=\"fasta\",as.matrix=TRUE)\n",
      "            s2names <- row.names(s2)\n",
      "            o <- order(s2names)\n",
      "            s2names <- s2names[o]\n",
      "            s <- cbind(s,s2[o,])\n",
      "        }\n",
      "    }\n",
      "    seqdata[[i]] <- s\n",
      "}"
     ],
     "language": "python",
     "metadata": {},
     "outputs": [],
     "prompt_number": 4
    },
    {
     "cell_type": "code",
     "collapsed": false,
     "input": [
      "%%R\n",
      "seqnames.fn <- paste(stubs,\".fas\",sep=\"\")\n",
      "for(i in 1:numsc){\n",
      "    write.dna(seqdata[[i]],seqnames.fn[i],format=\"fasta\",nbcol=-1,colsep=\"\")\n",
      "}"
     ],
     "language": "python",
     "metadata": {},
     "outputs": [],
     "prompt_number": 5
    },
    {
     "cell_type": "code",
     "collapsed": false,
     "input": [
      "s=\"\"\"DNA, gag = 1-1440\n",
      "DNA, pol = 1441-4284\n",
      "DNA, env = 4285-6807\\n\"\"\"\n",
      "f=open(\"regional_partition\",'w')\n",
      "f.write(s)\n",
      "f.close()"
     ],
     "language": "python",
     "metadata": {},
     "outputs": [],
     "prompt_number": 49
    }
   ],
   "metadata": {}
  }
 ]
}