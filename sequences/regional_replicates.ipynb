{
 "metadata": {
  "name": "",
  "signature": "sha256:bac6b80494d97437bc701f47926017926ba98124cdd272080c7575b3328f4098"
 },
 "nbformat": 3,
 "nbformat_minor": 0,
 "worksheets": [
  {
   "cells": [
    {
     "cell_type": "markdown",
     "metadata": {},
     "source": [
      "Regional data\n",
      "\n",
      "40000 individuals"
     ]
    },
    {
     "cell_type": "code",
     "collapsed": false,
     "input": [
      "%load_ext rpy2.ipython\n",
      "%Rdevice svg"
     ],
     "language": "python",
     "metadata": {},
     "outputs": [],
     "prompt_number": 1
    },
    {
     "cell_type": "code",
     "collapsed": false,
     "input": [
      "%%R\n",
      "library(ape)\n",
      "library(magrittr)\n",
      "library(phangorn)\n",
      "library(adephylo)"
     ],
     "language": "python",
     "metadata": {},
     "outputs": [
      {
       "metadata": {},
       "output_type": "display_data",
       "text": [
        "Loading required package: ade4\n",
        "\n",
        "Attaching package: \u2018adephylo\u2019\n",
        "\n",
        "The following object is masked from \u2018package:ade4\u2019:\n",
        "\n",
        "    orthogram\n",
        "\n"
       ]
      }
     ],
     "prompt_number": 2
    },
    {
     "cell_type": "code",
     "collapsed": false,
     "input": [
      "%%R\n",
      "regionaldirstub <- \"../rawdata/november2014/HPTN071/replicates\"\n",
      "regionaldirs <- list.dirs(regionaldirstub)\n",
      "regionaldirs <- regionaldirs[2:length(regionaldirs)]\n",
      "stubs <- strsplit(regionaldirs,\"/\") %>% lapply(.,tail,1) %>% unlist\n",
      "numsc <- length(stubs)"
     ],
     "language": "python",
     "metadata": {},
     "outputs": [
      {
       "metadata": {},
       "output_type": "display_data",
       "text": [
        " [1] \"281014_HPTN071_scA_rep10_SIMULATED\" \"281014_HPTN071_scA_rep11_SIMULATED\"\n",
        " [3] \"281014_HPTN071_scA_rep12_SIMULATED\" \"281014_HPTN071_scA_rep13_SIMULATED\"\n",
        " [5] \"281014_HPTN071_scA_rep14_SIMULATED\" \"281014_HPTN071_scA_rep15_SIMULATED\"\n",
        " [7] \"281014_HPTN071_scA_rep16_SIMULATED\" \"281014_HPTN071_scA_rep17_SIMULATED\"\n",
        " [9] \"281014_HPTN071_scA_rep18_SIMULATED\" \"281014_HPTN071_scA_rep19_SIMULATED\"\n",
        "[11] \"281014_HPTN071_scA_rep20_SIMULATED\" \"281014_HPTN071_scA_rep2_SIMULATED\" \n",
        "[13] \"281014_HPTN071_scA_rep3_SIMULATED\"  \"281014_HPTN071_scA_rep4_SIMULATED\" \n",
        "[15] \"281014_HPTN071_scA_rep5_SIMULATED\"  \"281014_HPTN071_scA_rep6_SIMULATED\" \n",
        "[17] \"281014_HPTN071_scA_rep7_SIMULATED\"  \"281014_HPTN071_scA_rep8_SIMULATED\" \n",
        "[19] \"281014_HPTN071_scA_rep9_SIMULATED\"  \"281014_HPTN071_scB_rep10_SIMULATED\"\n",
        "[21] \"281014_HPTN071_scB_rep11_SIMULATED\" \"281014_HPTN071_scB_rep12_SIMULATED\"\n",
        "[23] \"281014_HPTN071_scB_rep13_SIMULATED\" \"281014_HPTN071_scB_rep14_SIMULATED\"\n",
        "[25] \"281014_HPTN071_scB_rep15_SIMULATED\" \"281014_HPTN071_scB_rep16_SIMULATED\"\n",
        "[27] \"281014_HPTN071_scB_rep17_SIMULATED\" \"281014_HPTN071_scB_rep18_SIMULATED\"\n",
        "[29] \"281014_HPTN071_scB_rep19_SIMULATED\" \"281014_HPTN071_scB_rep20_SIMULATED\"\n",
        "[31] \"281014_HPTN071_scB_rep2_SIMULATED\"  \"281014_HPTN071_scB_rep3_SIMULATED\" \n",
        "[33] \"281014_HPTN071_scB_rep4_SIMULATED\"  \"281014_HPTN071_scB_rep5_SIMULATED\" \n",
        "[35] \"281014_HPTN071_scB_rep6_SIMULATED\"  \"281014_HPTN071_scB_rep7_SIMULATED\" \n",
        "[37] \"281014_HPTN071_scB_rep8_SIMULATED\"  \"281014_HPTN071_scB_rep9_SIMULATED\" \n",
        "[39] \"281014_HPTN071_scC_rep10_SIMULATED\" \"281014_HPTN071_scC_rep11_SIMULATED\"\n",
        "[41] \"281014_HPTN071_scC_rep12_SIMULATED\" \"281014_HPTN071_scC_rep13_SIMULATED\"\n",
        "[43] \"281014_HPTN071_scC_rep14_SIMULATED\" \"281014_HPTN071_scC_rep15_SIMULATED\"\n",
        "[45] \"281014_HPTN071_scC_rep16_SIMULATED\" \"281014_HPTN071_scC_rep17_SIMULATED\"\n",
        "[47] \"281014_HPTN071_scC_rep18_SIMULATED\" \"281014_HPTN071_scC_rep19_SIMULATED\"\n",
        "[49] \"281014_HPTN071_scC_rep20_SIMULATED\" \"281014_HPTN071_scC_rep2_SIMULATED\" \n",
        "[51] \"281014_HPTN071_scC_rep3_SIMULATED\"  \"281014_HPTN071_scC_rep4_SIMULATED\" \n",
        "[53] \"281014_HPTN071_scC_rep5_SIMULATED\"  \"281014_HPTN071_scC_rep6_SIMULATED\" \n",
        "[55] \"281014_HPTN071_scC_rep7_SIMULATED\"  \"281014_HPTN071_scC_rep8_SIMULATED\" \n",
        "[57] \"281014_HPTN071_scC_rep9_SIMULATED\" \n"
       ]
      }
     ],
     "prompt_number": 10
    },
    {
     "cell_type": "code",
     "collapsed": false,
     "input": [
      "%%R\n",
      "genes <- c(\"gag\",\"pol\",\"env\")\n",
      "seqdata <- list()\n",
      "for(i in 1:numsc){\n",
      "    for(j in 1:length(genes)){\n",
      "        if(j==1){\n",
      "            s <- read.dna(paste(regionaldirs[i],\"/\",stubs[i],\"_\",genes[j],\".fa\",sep=\"\"),format=\"fasta\",as.matrix=TRUE)\n",
      "            snames <- row.names(s)\n",
      "            o <- order(snames)\n",
      "            snames <- snames[o]\n",
      "            s <- s[o,]\n",
      "        }else{\n",
      "            s2 <- read.dna(paste(regionaldirs[i],\"/\",stubs[i],\"_\",genes[j],\".fa\",sep=\"\"),format=\"fasta\",as.matrix=TRUE)\n",
      "            s2names <- row.names(s2)\n",
      "            o <- order(s2names)\n",
      "            s2names <- s2names[o]\n",
      "            s <- cbind(s,s2[o,])\n",
      "        }\n",
      "    }\n",
      "    seqdata[[i]] <- s\n",
      "}"
     ],
     "language": "python",
     "metadata": {},
     "outputs": [],
     "prompt_number": 13
    },
    {
     "cell_type": "code",
     "collapsed": false,
     "input": [
      "%%R\n",
      "seqnames.fn <- paste(stubs,\".fas\",sep=\"\")\n",
      "for(i in 1:numsc){\n",
      "    write.dna(seqdata[[i]],seqnames.fn[i],format=\"fasta\",nbcol=-1,colsep=\"\")\n",
      "}"
     ],
     "language": "python",
     "metadata": {},
     "outputs": [],
     "prompt_number": 14
    }
   ],
   "metadata": {}
  }
 ]
}