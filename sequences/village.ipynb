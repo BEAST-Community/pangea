{
 "metadata": {
  "name": "",
  "signature": "sha256:d42ce86d522e5a51426d4c664944e18e3eb330b7360f3868c6623d18a63c383d"
 },
 "nbformat": 3,
 "nbformat_minor": 0,
 "worksheets": [
  {
   "cells": [
    {
     "cell_type": "markdown",
     "metadata": {},
     "source": [
      "Village data\n",
      "\n",
      "8000 individuals, simulated over 70 years\n",
      "Model contains gender, risk group, acute/chronic/AIDS\n",
      "Contamination from outside\n",
      "Labels contain ID, date, DOB, and gender\n",
      "Sequences sampled over a three year period\n",
      "gag/pol/env 1-1479, 1480-4479, 4480-6987\n",
      "GTR model?\n",
      "3x3 simulations\n",
      "    time periods of increasing, decreasing or stationary incidence\n",
      "    3 sampling fractions?"
     ]
    },
    {
     "cell_type": "code",
     "collapsed": false,
     "input": [
      "%load_ext rpy2.ipython\n",
      "%Rdevice svg"
     ],
     "language": "python",
     "metadata": {},
     "outputs": [],
     "prompt_number": 1
    },
    {
     "cell_type": "code",
     "collapsed": false,
     "input": [
      "%%R\n",
      "library(ape)\n",
      "library(magrittr)\n",
      "library(phangorn)\n",
      "library(adephylo)"
     ],
     "language": "python",
     "metadata": {},
     "outputs": [
      {
       "metadata": {},
       "output_type": "display_data",
       "text": [
        "Loading required package: ade4\n",
        "\n",
        "Attaching package: \u2018adephylo\u2019\n",
        "\n",
        "The following object is masked from \u2018package:ade4\u2019:\n",
        "\n",
        "    orthogram\n",
        "\n"
       ]
      }
     ],
     "prompt_number": 2
    },
    {
     "cell_type": "code",
     "collapsed": false,
     "input": [
      "%%R\n",
      "villagedir <- \"../rawdata/october2014/Village\""
     ],
     "language": "python",
     "metadata": {},
     "outputs": [],
     "prompt_number": 4
    },
    {
     "cell_type": "code",
     "collapsed": false,
     "input": [
      "%%R\n",
      "gag <- seq(1,1479)\n",
      "pol <- seq(1480,4479)\n",
      "env <- seq(4480,6987)"
     ],
     "language": "python",
     "metadata": {},
     "outputs": [],
     "prompt_number": 5
    },
    {
     "cell_type": "code",
     "collapsed": false,
     "input": [
      "%%R\n",
      "seqdata.fn <- list.files(path=villagedir,pattern=\"fasta\",full.names=TRUE)\n",
      "numsc <- length(seqdata.fn)\n",
      "seqdata <- list()\n",
      "for(i in 1:numsc){\n",
      "    seqdata[[i]] <- read.dna(seqdata.fn[i],format=\"fasta\",as.matrix=TRUE)\n",
      "}"
     ],
     "language": "python",
     "metadata": {},
     "outputs": [],
     "prompt_number": 6
    },
    {
     "cell_type": "code",
     "collapsed": false,
     "input": [
      "s=\"\"\"DNA, gag = 1-1479\n",
      "DNA, pol = 1480-4479\n",
      "DNA, env = 4480-6987\\n\"\"\"\n",
      "f=open(\"villages_partition\",'w')\n",
      "f.write(s)\n",
      "f.close()"
     ],
     "language": "python",
     "metadata": {},
     "outputs": [],
     "prompt_number": 20
    }
   ],
   "metadata": {}
  }
 ]
}